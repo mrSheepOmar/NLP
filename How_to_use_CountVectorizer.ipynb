{
 "cells": [
  {
   "cell_type": "code",
   "execution_count": null,
   "id": "1f1e58c8-0f0c-47a4-b898-f805654a12a1",
   "metadata": {},
   "outputs": [],
   "source": [
    "# CountVectorizer() 是 Scikit-learn 庫中用來將文本數據轉換為數值數據的一個工具。\n",
    "# 具體來說，CountVectorizer 將文本資料轉換為詞頻矩陣，即每個單詞在文本中出現的次數。這在自然語言處理（NLP）和機器學習中非常有用，因為許多模型只能處理數字數據。\n",
    "\n",
    "#以下是 CountVectorizer 的主要功能：\n",
    "# 1.詞彙表建立：掃描整個文本語料庫，建立一個包含所有出現單詞的詞彙表。\n",
    "# 2. 轉換文本為特徵向量：將每一段文本轉換為一個特徵向量，向量的每一維表示詞彙表中一個單詞在文本中出現的次數。"
   ]
  },
  {
   "cell_type": "code",
   "execution_count": null,
   "id": "83250ea1-b11f-423b-b1d9-5877f2ff280f",
   "metadata": {},
   "outputs": [],
   "source": [
    "# 這是一個簡單的例子，展示了如何使用 CountVectorizer："
   ]
  },
  {
   "cell_type": "code",
   "execution_count": 1,
   "id": "d1485c33-1edc-47b3-8b57-1cfcba703ba2",
   "metadata": {},
   "outputs": [],
   "source": [
    "from sklearn.feature_extraction.text import CountVectorizer"
   ]
  },
  {
   "cell_type": "code",
   "execution_count": 2,
   "id": "43923c85-0758-42d3-8f7d-38ab6d9f31ff",
   "metadata": {},
   "outputs": [],
   "source": [
    "# 示例文本\n",
    "texts = [\n",
    "    \"I love programming\",\n",
    "    \"I love learning new things\",\n",
    "    \"Programming is fun\"\n",
    "]"
   ]
  },
  {
   "cell_type": "code",
   "execution_count": 3,
   "id": "1952751e-9cf7-48fd-ba09-8488ca580daf",
   "metadata": {},
   "outputs": [],
   "source": [
    "# 初始化 CountVectorizer\n",
    "vectorizer = CountVectorizer()"
   ]
  },
  {
   "cell_type": "code",
   "execution_count": 4,
   "id": "985f8e69-cac5-42b0-897b-18aed6c9e446",
   "metadata": {},
   "outputs": [],
   "source": [
    "# 將文本轉換為詞頻矩陣\n",
    "X = vectorizer.fit_transform(texts)"
   ]
  },
  {
   "cell_type": "code",
   "execution_count": 6,
   "id": "049abb77-b871-47df-ad72-fe2d21a6fc97",
   "metadata": {},
   "outputs": [],
   "source": [
    "# 獲取詞彙表\n",
    "vocab = vectorizer.get_feature_names_out()"
   ]
  },
  {
   "cell_type": "code",
   "execution_count": 8,
   "id": "08f9497b-70e0-42ff-bceb-a48696c33f1b",
   "metadata": {},
   "outputs": [],
   "source": [
    "# 將詞頻矩陣轉換為數組\n",
    "X_array = X.toarray()"
   ]
  },
  {
   "cell_type": "code",
   "execution_count": 10,
   "id": "7a3bf013-b850-490b-8b7a-bd6cd7f0aabc",
   "metadata": {},
   "outputs": [
    {
     "name": "stdout",
     "output_type": "stream",
     "text": [
      "詞彙表: ['fun' 'is' 'learning' 'love' 'new' 'programming' 'things']\n",
      "詞頻矩陣:\n",
      " [[0 0 0 1 0 1 0]\n",
      " [0 0 1 1 1 0 1]\n",
      " [1 1 0 0 0 1 0]]\n"
     ]
    }
   ],
   "source": [
    "print(\"詞彙表:\", vocab)\n",
    "print(\"詞頻矩陣:\\n\", X_array)"
   ]
  },
  {
   "cell_type": "code",
   "execution_count": null,
   "id": "b824619e-b7eb-4714-a6e0-4966ab921585",
   "metadata": {},
   "outputs": [],
   "source": [
    "# 在使用 CountVectorizer 進行文本處理時，某些常見的詞（如 \"I\"、\"the\" 等）可能會被濾掉，這是因為 CountVectorizer 默認會過濾掉英語的停用詞（stop words）。\n",
    "# 停用詞是指在文本分析中被認為沒有太大意義的詞，它們通常是一些常見的詞，如冠詞、介詞、代詞等。\n",
    "# CountVectorizer 有一個參數 stop_words，可以用來指定要過濾掉的停用詞。如果不希望過濾掉這些詞，可以將 stop_words 設置為 None 或 []。如果希望明確指定一組停用詞，也可以將其設置為一個列表。"
   ]
  },
  {
   "cell_type": "code",
   "execution_count": null,
   "id": "367c5551-feee-4d51-a4fe-cc09c760579e",
   "metadata": {},
   "outputs": [],
   "source": [
    "# 以下是一些示例，展示了如何使用 stop_words 參數：\n",
    "# 1. 不過濾停用詞："
   ]
  },
  {
   "cell_type": "code",
   "execution_count": 11,
   "id": "7ee5ca68-387e-496a-8350-f7bbbb50b9ec",
   "metadata": {},
   "outputs": [
    {
     "name": "stdout",
     "output_type": "stream",
     "text": [
      "詞彙表: ['fun' 'is' 'learning' 'love' 'new' 'programming' 'things']\n",
      "詞頻矩陣:\n",
      " [[0 0 0 1 0 1 0]\n",
      " [0 0 1 1 1 0 1]\n",
      " [1 1 0 0 0 1 0]]\n"
     ]
    }
   ],
   "source": [
    "from sklearn.feature_extraction.text import CountVectorizer\n",
    "\n",
    "texts = [\n",
    "    \"I love programming\",\n",
    "    \"I love learning new things\",\n",
    "    \"Programming is fun\"\n",
    "]\n",
    "\n",
    "# 初始化 CountVectorizer，不過濾停用詞\n",
    "vectorizer = CountVectorizer(stop_words=None)\n",
    "\n",
    "X = vectorizer.fit_transform(texts)\n",
    "vocab = vectorizer.get_feature_names_out()\n",
    "X_array = X.toarray()\n",
    "\n",
    "print(\"詞彙表:\", vocab)\n",
    "print(\"詞頻矩陣:\\n\", X_array)"
   ]
  },
  {
   "cell_type": "code",
   "execution_count": null,
   "id": "3193f6be-06f6-46bc-9ac5-159097ad00f7",
   "metadata": {},
   "outputs": [],
   "source": [
    "# 2.使用內建的英語停用詞列表："
   ]
  },
  {
   "cell_type": "code",
   "execution_count": 12,
   "id": "31fd5c85-f0dc-4fe1-b713-26a45759bc36",
   "metadata": {},
   "outputs": [
    {
     "name": "stdout",
     "output_type": "stream",
     "text": [
      "詞彙表: ['fun' 'learning' 'love' 'new' 'programming' 'things']\n",
      "詞頻矩陣:\n",
      " [[0 0 1 0 1 0]\n",
      " [0 1 1 1 0 1]\n",
      " [1 0 0 0 1 0]]\n"
     ]
    }
   ],
   "source": [
    "from sklearn.feature_extraction.text import CountVectorizer\n",
    "\n",
    "texts = [\n",
    "    \"I love programming\",\n",
    "    \"I love learning new things\",\n",
    "    \"Programming is fun\"\n",
    "]\n",
    "\n",
    "# 初始化 CountVectorizer，使用內建的英語停用詞列表\n",
    "vectorizer = CountVectorizer(stop_words='english')\n",
    "\n",
    "X = vectorizer.fit_transform(texts)\n",
    "vocab = vectorizer.get_feature_names_out()\n",
    "X_array = X.toarray()\n",
    "\n",
    "print(\"詞彙表:\", vocab)\n",
    "print(\"詞頻矩陣:\\n\", X_array)\n"
   ]
  },
  {
   "cell_type": "code",
   "execution_count": null,
   "id": "b58b2471-aecb-4a55-bb1c-d4663f067b1f",
   "metadata": {},
   "outputs": [],
   "source": [
    "# 3.使用自定義停用詞列表："
   ]
  },
  {
   "cell_type": "code",
   "execution_count": 13,
   "id": "9e00b66f-ca54-441c-bbca-2ba778c6641b",
   "metadata": {},
   "outputs": [
    {
     "name": "stdout",
     "output_type": "stream",
     "text": [
      "詞彙表: ['fun' 'learning' 'love' 'programming' 'things']\n",
      "詞頻矩陣:\n",
      " [[0 0 1 1 0]\n",
      " [0 1 1 0 1]\n",
      " [1 0 0 1 0]]\n"
     ]
    }
   ],
   "source": [
    "from sklearn.feature_extraction.text import CountVectorizer\n",
    "\n",
    "texts = [\n",
    "    \"I love programming\",\n",
    "    \"I love learning new things\",\n",
    "    \"Programming is fun\"\n",
    "]\n",
    "\n",
    "# 自定義停用詞列表\n",
    "custom_stop_words = ['i', 'is', 'new']\n",
    "\n",
    "# 初始化 CountVectorizer，使用自定義停用詞列表\n",
    "vectorizer = CountVectorizer(stop_words=custom_stop_words)\n",
    "\n",
    "X = vectorizer.fit_transform(texts)\n",
    "vocab = vectorizer.get_feature_names_out()\n",
    "X_array = X.toarray()\n",
    "\n",
    "print(\"詞彙表:\", vocab)\n",
    "print(\"詞頻矩陣:\\n\", X_array)"
   ]
  },
  {
   "cell_type": "code",
   "execution_count": null,
   "id": "ac416c42-a264-434d-b49e-59ae09209834",
   "metadata": {},
   "outputs": [],
   "source": [
    "# 這樣，你就可以控制哪些詞會被包含在詞彙表中，哪些詞會被濾掉。"
   ]
  }
 ],
 "metadata": {
  "kernelspec": {
   "display_name": "Python 3 (ipykernel)",
   "language": "python",
   "name": "python3"
  },
  "language_info": {
   "codemirror_mode": {
    "name": "ipython",
    "version": 3
   },
   "file_extension": ".py",
   "mimetype": "text/x-python",
   "name": "python",
   "nbconvert_exporter": "python",
   "pygments_lexer": "ipython3",
   "version": "3.10.14"
  }
 },
 "nbformat": 4,
 "nbformat_minor": 5
}
